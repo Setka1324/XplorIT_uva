{
 "cells": [
  {
   "cell_type": "code",
   "execution_count": 2,
   "metadata": {},
   "outputs": [
    {
     "name": "stderr",
     "output_type": "stream",
     "text": [
      "[nltk_data] Downloading package stopwords to\n",
      "[nltk_data]     /Users/josefinemertens/nltk_data...\n",
      "[nltk_data]   Package stopwords is already up-to-date!\n"
     ]
    }
   ],
   "source": [
    "import csv\n",
    "import string\n",
    "import nltk\n",
    "from nltk.corpus import stopwords\n",
    "nltk.download('stopwords')\n",
    "\n",
    "# Set of English stopwords\n",
    "stop_words = set(stopwords.words('english'))\n",
    "\n",
    "\n",
    "\n"
   ]
  },
  {
   "cell_type": "code",
   "execution_count": 3,
   "metadata": {},
   "outputs": [],
   "source": [
    "# Read the text from a file\n",
    "with open('Not containing well being_.txt', 'r') as file:\n",
    "    text = file.read()\n",
    "# Convert to lowercase\n",
    "text = text.lower()\n",
    "\n",
    "# Remove punctuation, digits, and quotation marks\n",
    "translator = str.maketrans('', '', string.punctuation + '0123456789' + '‘’“”\"\\'')\n",
    "text = text.translate(translator)\n",
    "\n",
    "# Split the text into words\n",
    "words = text.split()\n",
    "\n",
    "# Write words to a CSV file, excluding stopwords\n",
    "with open('notwellbeingwords.csv', 'w', newline='') as csvfile:\n",
    "    writer = csv.writer(csvfile)\n",
    "    for word in words:\n",
    "        if word not in stop_words:\n",
    "            writer.writerow([word])  # Write only the word\n"
   ]
  },
  {
   "cell_type": "code",
   "execution_count": 4,
   "metadata": {},
   "outputs": [],
   "source": [
    "# Read the text from a file\n",
    "with open('Videos containing Well-being_.txt', 'r') as file:\n",
    "    text = file.read()\n",
    "# Convert to lowercase\n",
    "text = text.lower()\n",
    "\n",
    "# Remove punctuation, digits, and quotation marks\n",
    "translator = str.maketrans('', '', string.punctuation + '0123456789' + '‘’“”\"\\'')\n",
    "text = text.translate(translator)\n",
    "\n",
    "# Split the text into words\n",
    "words = text.split()\n",
    "\n",
    "# Write words to a CSV file, excluding stopwords\n",
    "with open('wellbeingwords.csv', 'w', newline='') as csvfile:\n",
    "    writer = csv.writer(csvfile)\n",
    "    for word in words:\n",
    "        if word not in stop_words:\n",
    "            writer.writerow([word])  # Write only the word\n"
   ]
  },
  {
   "cell_type": "code",
   "execution_count": 5,
   "metadata": {},
   "outputs": [],
   "source": [
    "# Read the text from a file\n",
    "with open('Self made videos Not containing well-being_.txt', 'r') as file:\n",
    "    text = file.read()\n",
    "# Convert to lowercase\n",
    "text = text.lower()\n",
    "\n",
    "# Remove punctuation, digits, and quotation marks\n",
    "translator = str.maketrans('', '', string.punctuation + '0123456789' + '‘’“”\"\\'')\n",
    "text = text.translate(translator)\n",
    "\n",
    "# Split the text into words\n",
    "words = text.split()\n",
    "\n",
    "# Write words to a CSV file, excluding stopwords\n",
    "with open('SelfMade1.csv', 'w', newline='') as csvfile:\n",
    "    writer = csv.writer(csvfile)\n",
    "    for word in words:\n",
    "        if word not in stop_words:\n",
    "            writer.writerow([word])  # Write only the word\n"
   ]
  },
  {
   "cell_type": "code",
   "execution_count": 6,
   "metadata": {},
   "outputs": [],
   "source": [
    "# Read the text from a file\n",
    "with open('Self made videos that contain wellbeing_.txt', 'r') as file:\n",
    "    text = file.read()\n",
    "# Convert to lowercase\n",
    "text = text.lower()\n",
    "\n",
    "# Remove punctuation, digits, and quotation marks\n",
    "translator = str.maketrans('', '', string.punctuation + '0123456789' + '‘’“”\"\\'')\n",
    "text = text.translate(translator)\n",
    "\n",
    "# Split the text into words\n",
    "words = text.split()\n",
    "\n",
    "# Write words to a CSV file, excluding stopwords\n",
    "with open('SelfMade1.csv', 'w', newline='') as csvfile:\n",
    "    writer = csv.writer(csvfile)\n",
    "    for word in words:\n",
    "        if word not in stop_words:\n",
    "            writer.writerow([word])  # Write only the word"
   ]
  }
 ],
 "metadata": {
  "interpreter": {
   "hash": "9c220e280873bf1ca37e76912ec513d8415a72243864240cc9deb918837d721d"
  },
  "kernelspec": {
   "display_name": "Python 3.11.4 ('base')",
   "language": "python",
   "name": "python3"
  },
  "language_info": {
   "codemirror_mode": {
    "name": "ipython",
    "version": 3
   },
   "file_extension": ".py",
   "mimetype": "text/x-python",
   "name": "python",
   "nbconvert_exporter": "python",
   "pygments_lexer": "ipython3",
   "version": "3.11.4"
  },
  "orig_nbformat": 4
 },
 "nbformat": 4,
 "nbformat_minor": 2
}
