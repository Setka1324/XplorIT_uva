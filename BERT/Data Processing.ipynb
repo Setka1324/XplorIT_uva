{
 "cells": [
  {
   "cell_type": "code",
   "execution_count": 2,
   "id": "a7c71ffa",
   "metadata": {},
   "outputs": [
    {
     "name": "stderr",
     "output_type": "stream",
     "text": [
      "[nltk_data] Downloading package punkt_tab to\n",
      "[nltk_data]     /Users/josefinemertens/nltk_data...\n",
      "[nltk_data]   Package punkt_tab is already up-to-date!\n"
     ]
    },
    {
     "data": {
      "text/plain": [
       "True"
      ]
     },
     "execution_count": 2,
     "metadata": {},
     "output_type": "execute_result"
    }
   ],
   "source": [
    "\n",
    "import re\n",
    "import pandas as pd\n",
    "import nltk\n",
    "from nltk.tokenize import word_tokenize\n",
    "from nltk.stem import WordNetLemmatizer\n",
    "from nltk.corpus import stopwords\n",
    "nltk.download('punkt_tab')"
   ]
  },
  {
   "cell_type": "code",
   "execution_count": 3,
   "id": "1fe14c16",
   "metadata": {},
   "outputs": [],
   "source": [
    "# Load the CSV files\n",
    "df_wellbeing = pd.read_csv('Transcribed videos containing well-being - Arkusz1.csv')\n",
    "df_non_wellbeing = pd.read_csv('Videos not containing well-being - Arkusz1.csv')\n",
    "\n",
    "# Extract only the \"Transcribed text\" column\n",
    "df_wellbeing_text = df_wellbeing[['Transcribed text']]\n",
    "df_non_wellbeing_text = df_non_wellbeing[['Transcribed text']]\n",
    "\n",
    "df_wellbeing_text.to_csv('Wellbeing_text.csv', index=False)\n",
    "df_non_wellbeing_text.to_csv('NonWellbeing_text.csv', index=False)"
   ]
  },
  {
   "cell_type": "code",
   "execution_count": 4,
   "id": "21dee196",
   "metadata": {},
   "outputs": [
    {
     "name": "stderr",
     "output_type": "stream",
     "text": [
      "/var/folders/m4/ntrzdnw15wl9gpyghtgcjxm40000gn/T/ipykernel_23922/4186532467.py:1: SettingWithCopyWarning: \n",
      "A value is trying to be set on a copy of a slice from a DataFrame.\n",
      "Try using .loc[row_indexer,col_indexer] = value instead\n",
      "\n",
      "See the caveats in the documentation: https://pandas.pydata.org/pandas-docs/stable/user_guide/indexing.html#returning-a-view-versus-a-copy\n",
      "  df_wellbeing_text['label'] = 'well-being'\n",
      "/var/folders/m4/ntrzdnw15wl9gpyghtgcjxm40000gn/T/ipykernel_23922/4186532467.py:2: SettingWithCopyWarning: \n",
      "A value is trying to be set on a copy of a slice from a DataFrame.\n",
      "Try using .loc[row_indexer,col_indexer] = value instead\n",
      "\n",
      "See the caveats in the documentation: https://pandas.pydata.org/pandas-docs/stable/user_guide/indexing.html#returning-a-view-versus-a-copy\n",
      "  df_non_wellbeing_text['label'] = 'non-well-being'\n"
     ]
    }
   ],
   "source": [
    "\n",
    "df_wellbeing_text['label'] = 'well-being'\n",
    "df_non_wellbeing_text['label'] = 'non-well-being'\n",
    "\n",
    "# Combine both dataframes\n",
    "df_combined = pd.concat([df_wellbeing_text, df_non_wellbeing_text], ignore_index=True)\n",
    "\n",
    "df_combined.to_csv('Combined_transcribed_text_with_labels.csv', index=False)\n"
   ]
  },
  {
   "cell_type": "code",
   "execution_count": 5,
   "id": "a94c1053",
   "metadata": {},
   "outputs": [],
   "source": [
    "dfwb = pd.read_csv('Wellbeing_text.csv')\n",
    "\n",
    "dfnwb = pd.read_csv('NonWellbeing_text.csv')\n",
    "\n",
    "df = pd.read_csv('Combined_transcribed_text_with_labels.csv')"
   ]
  },
  {
   "cell_type": "code",
   "execution_count": 6,
   "id": "b09ec477",
   "metadata": {},
   "outputs": [
    {
     "data": {
      "text/plain": [
       "184"
      ]
     },
     "execution_count": 6,
     "metadata": {},
     "output_type": "execute_result"
    }
   ],
   "source": [
    "df.shape[0]"
   ]
  },
  {
   "cell_type": "code",
   "execution_count": 1,
   "id": "593eab47",
   "metadata": {},
   "outputs": [],
   "source": [
    "import re\n",
    "import pandas as pd\n",
    "import nltk\n",
    "from nltk.tokenize import word_tokenize\n",
    "from nltk.stem import WordNetLemmatizer\n",
    "from nltk.corpus import stopwords"
   ]
  },
  {
   "cell_type": "code",
   "execution_count": 9,
   "id": "d0b04697",
   "metadata": {},
   "outputs": [],
   "source": [
    "\n",
    "# Define the text cleaning functions\n",
    "def clean_text(text):\n",
    "    text = re.sub(r'http\\S+', '', text)  # Remove URLs\n",
    "    text = re.sub(r'#', '', text)  # Remove hashtags but keep the text\n",
    "    text = re.sub(r'\\.\\.\\.', ' ', text)  # Replace ellipses with a space\n",
    "    text = re.sub(r'[^A-Za-z\\s]', '', text)  # Remove special characters and numbers\n",
    "    text = re.sub(r'\\s+', ' ', text).strip()  # Remove additional white spaces\n",
    "    return text\n",
    "\n",
    "def case_normalization(text):\n",
    "    return text.lower()\n",
    "\n",
    "def tokenize(text):\n",
    "    return word_tokenize(text)  # Using NLTK for better tokenization\n",
    "\n",
    "def remove_stopwords(tokens):\n",
    "    # Combine default English stopwords with custom stopwords as I found that there were not enough stopwords in the nltk package\n",
    "    stop_words = set(stopwords.words('english'))\n",
    "    custom_stop_words = {\n",
    "        'a', 'as', 'able', 'about', 'above', 'according', 'accordingly', 'across', 'actually', \n",
    "        'after', 'afterwards', 'again', 'against', 'ah', 'aint', 'all', 'allow', 'allows', 'almost', \n",
    "        'alone', 'along', 'already', 'also', 'although', 'always', 'am', 'among', 'amongst', 'an', \n",
    "        'and', 'another', 'any', 'anybody', 'anyhow', 'anyone', 'anything', 'anyway', 'anyways', \n",
    "        'anywhere', 'apart', 'appear', 'appreciate', 'appropriate', 'are', 'arent', 'around', \n",
    "        'aside', 'ask', 'asking', 'associated', 'at', 'available', 'away', 'awfully', 'b', 'be', \n",
    "        'became', 'because', 'become', 'becomes', 'becoming', 'been', 'before', 'beforehand', \n",
    "        'behind', 'being', 'believe', 'below', 'beside', 'besides', 'best', 'better', 'between', \n",
    "        'beyond', 'both', 'brief', 'but', 'by', 'c', 'cmon', 'cs', 'came', 'can', 'cant', 'cannot', \n",
    "        'cause', 'causes', 'certain', 'certainly', 'changes', 'clearly', 'co', 'com', 'come', \n",
    "        'comes', 'concerning', 'consequently', 'consider', 'considering', 'contain', 'containing', \n",
    "        'contains', 'corresponding', 'could', 'couldnt', 'course', 'currently', 'd', 'definitely', \n",
    "        'described', 'despite', 'did', 'didnt', 'different', 'do', 'does', 'doesnt', 'doing', \n",
    "        'dont', 'done', 'down', 'downwards', 'during', 'e', 'each', 'edu', 'eg', 'eight', 'either', \n",
    "        'else', 'elsewhere', 'enough', 'entirely', 'especially', 'et', 'etc', 'even', 'ever', \n",
    "        'every', 'everybody', 'everyone', 'everything', 'everywhere', 'ex', 'exactly', 'example', \n",
    "        'except', 'f', 'far', 'few', 'fifth', 'first', 'five', 'followed', 'following', 'follows', \n",
    "        'for', 'former', 'formerly', 'forth', 'four', 'from', 'further', 'furthermore', 'g', 'get', \n",
    "        'gets', 'getting', 'given', 'gives', 'go', 'goes', 'going', 'gone', 'got', 'gotten', \n",
    "        'greetings', 'h', 'had', 'hadnt', 'happens', 'hardly', 'has', 'hasnt', 'have', 'havent', \n",
    "        'having', 'he', 'hes', 'hello', 'help', 'hence', 'her', 'here', 'heres', 'hereafter', \n",
    "        'hereby', 'herein', 'hereupon', 'hers', 'herself', 'hi', 'him', 'himself', 'his', 'hither', \n",
    "        'hopefully', 'how', 'howbeit', 'however', 'i', 'id', 'ill', 'im', 'ive', 'ie', 'if', \n",
    "        'ignored', 'immediate', 'in', 'inasmuch', 'inc', 'indeed', 'indicate', 'indicated', \n",
    "        'indicates', 'inner', 'insofar', 'instead', 'into', 'inward', 'is', 'isnt', 'it', 'itd', \n",
    "        'itll', 'its', 'itself', 'j', 'just', 'k', 'keep', 'keeps', 'kept', 'know', 'knows', \n",
    "        'known', 'l', 'last', 'lately', 'later', 'latter', 'latterly', 'least', 'less', 'lest', \n",
    "        'let', 'lets', 'like', 'liked', 'likely', 'little', 'look', 'looking', 'looks', 'ltd', 'm', \n",
    "        'mainly', 'many', 'may', 'maybe', 'me', 'mean', 'meanwhile', 'merely', 'might', 'more', \n",
    "        'moreover', 'most', 'mostly', 'much', 'must', 'my', 'myself', 'n', 'name', 'namely', 'nd', \n",
    "        'near', 'nearly', 'necessary', 'need', 'needs', 'neither', 'never', 'nevertheless', 'new', \n",
    "        'next', 'nine', 'no', 'nobody', 'non', 'none', 'noone', 'nor', 'normally', 'not', 'nothing', \n",
    "        'novel', 'now', 'nowhere', 'o', 'obviously', 'of', 'off', 'often', 'oh', 'ok', 'okay', \n",
    "        'old', 'on', 'once', 'one', 'ones', 'only', 'onto', 'or', 'other', 'others', 'otherwise', \n",
    "        'ought', 'our', 'ours', 'ourselves', 'out', 'outside', 'over', 'overall', 'own', 'p', \n",
    "        'particular', 'particularly', 'per', 'perhaps', 'placed', 'please', 'plus', 'possible', \n",
    "        'presumably', 'probably', 'provides', 'q', 'que', 'quite', 'qv', 'r', 'rather', 'rd', 're', \n",
    "        'really', 'reasonably', 'regarding', 'regardless', 'regards', 'relatively', 'respectively', \n",
    "        'right', 's', 'said', 'same', 'saw', 'say', 'saying', 'says', 'second', 'secondly', 'see', \n",
    "        'seeing', 'seem', 'seemed', 'seeming', 'seems', 'seen', 'self', 'selves', 'sensible', 'sent', \n",
    "        'serious', 'seriously', 'seven', 'several', 'shall', 'she', 'should', 'shouldnt', 'since', \n",
    "        'six', 'so', 'some', 'somebody', 'somehow', 'someone', 'something', 'sometime', 'sometimes', \n",
    "        'somewhat', 'somewhere', 'soon', 'sorry', 'specified', 'specify', 'specifying', 'still', \n",
    "        'sub', 'such', 'sup', 'sure', 't', 'ts', 'take', 'taken', 'tell', 'tends', 'th', 'than', \n",
    "        'thank', 'thanks', 'thanx', 'that', 'thats', 'the', 'their', 'theirs', 'them', 'themselves', \n",
    "        'then', 'thence', 'there', 'theres', 'thereafter', 'thereby', 'therefore', 'therein', \n",
    "        'thereupon', 'these', 'they', 'theyd', 'theyll', 'theyre', 'theyve', 'think', 'third', \n",
    "        'this', 'thorough', 'thoroughly', 'those', 'though', 'three', 'through', 'throughout', \n",
    "        'thru', 'thus', 'to', 'together', 'too', 'took', 'toward', 'towards', 'tried', 'tries', \n",
    "        'truly', 'try', 'trying', 'twice', 'two', 'u', 'un', 'under', 'unfortunately', 'unless', \n",
    "        'unlikely', 'until', 'unto', 'up', 'upon', 'us', 'use', 'used', 'useful', 'uses', 'using', \n",
    "        'usually', 'uucp', 'v', 'value', 'various', 'very', 'via', 'viz', 'vs', 'w', 'want', 'wants', \n",
    "        'was', 'wasnt', 'way', 'we', 'wed', 'well', 'were', 'weve', 'welcome', 'well', 'went', \n",
    "        'were', 'werent', 'what', 'whats', 'whatever', 'when', 'whence', 'whenever', 'where', \n",
    "        'wheres', 'whereafter', 'whereas', 'whereby', 'wherein', 'whereupon', 'wherever', 'whether', \n",
    "        'which', 'while', 'whither', 'who', 'whos', 'whoever', 'whole', 'whom', 'whose', 'why', \n",
    "        'will', 'willing', 'wish', 'with', 'within', 'without', 'wont', 'wonder', 'would', 'would', \n",
    "        'wouldnt', 'x', 'y', 'yes', 'yet', 'you', 'youd', 'youll', 'youre', 'youve', 'your', \n",
    "        'yours', 'yourself', 'yourselves', 'z', 'zero'\n",
    "    }\n",
    "    stop_words.update(custom_stop_words)\n",
    "    return [token for token in tokens if token not in stop_words]\n",
    "\n",
    "\n",
    "def lemmatize(tokens):\n",
    "    lemmatizer = WordNetLemmatizer()\n",
    "    return [lemmatizer.lemmatize(token) for token in tokens]\n",
    "\n",
    "\n",
    "def process_text(text):\n",
    "    cleaned = clean_text(text)\n",
    "    normalized = case_normalization(cleaned)\n",
    "    tokens = tokenize(normalized)\n",
    "    no_stopwords = remove_stopwords(tokens)\n",
    "    lemmatized = lemmatize(no_stopwords)\n",
    "    return ' '.join(lemmatized)\n",
    "\n",
    "# Apply the functions to each dataframe\n",
    "df['Transcribed text'] = df['Transcribed text'].fillna('').apply(process_text)\n",
    "dfwb['Transcribed text'] = dfwb['Transcribed text'].fillna('').apply(process_text)\n",
    "dfnwb['Transcribed text'] = dfnwb['Transcribed text'].fillna('').apply(process_text)\n"
   ]
  },
  {
   "cell_type": "code",
   "execution_count": 10,
   "id": "a144862a",
   "metadata": {},
   "outputs": [],
   "source": [
    "# Save processed combined dataframe with labels\n",
    "df_combined_processed = df[['Transcribed text', 'label']].copy()\n",
    "df_combined_processed['Transcribed text'] = df['Transcribed text'].fillna('').apply(process_text)\n",
    "df_combined_processed.to_csv('Processed_combined.csv', index=False)\n",
    "\n",
    "# Save processed well-being dataframe\n",
    "dfwb_processed = dfwb[['Transcribed text']].copy()\n",
    "dfwb_processed['Transcribed text'] = dfwb['Transcribed text'].fillna('').apply(process_text)\n",
    "dfwb_processed.to_csv('Processed_wellbeing_text.csv', index=False)\n",
    "\n",
    "# Save processed non-well-being dataframe\n",
    "dfnwb_processed = dfnwb[['Transcribed text']].copy()\n",
    "dfnwb_processed['Transcribed text'] = dfnwb['Transcribed text'].fillna('').apply(process_text)\n",
    "dfnwb_processed.to_csv('Processed_non_wellbeing_text.csv', index=False)\n"
   ]
  }
 ],
 "metadata": {
  "kernelspec": {
   "display_name": "Python 3 (ipykernel)",
   "language": "python",
   "name": "python3"
  },
  "language_info": {
   "codemirror_mode": {
    "name": "ipython",
    "version": 3
   },
   "file_extension": ".py",
   "mimetype": "text/x-python",
   "name": "python",
   "nbconvert_exporter": "python",
   "pygments_lexer": "ipython3",
   "version": "3.11.5"
  }
 },
 "nbformat": 4,
 "nbformat_minor": 5
}
